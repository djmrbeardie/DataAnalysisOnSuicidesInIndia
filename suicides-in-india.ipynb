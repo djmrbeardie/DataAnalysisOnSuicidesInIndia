{
 "cells": [
  {
   "cell_type": "code",
   "execution_count": 1,
   "metadata": {},
   "outputs": [
    {
     "data": {
      "text/plain": [
       "['suicides-in-india-20072018']"
      ]
     },
     "execution_count": 1,
     "metadata": {},
     "output_type": "execute_result"
    }
   ],
   "source": [
    "#Data Source URL: https://www.kaggle.com/albabshams/suicides-in-india-analysed/data\n",
    "\n",
    "import os\n",
    "PATH = '../input'\n",
    "os.listdir(PATH)"
   ]
  },
  {
   "cell_type": "markdown",
   "metadata": {},
   "source": [
    "Import statements"
   ]
  },
  {
   "cell_type": "code",
   "execution_count": 2,
   "metadata": {
    "_cell_guid": "79c7e3d0-c299-4dcb-8224-4455121ee9b0",
    "_uuid": "d629ff2d2480ee46fbb7e2d37f6b5fab8052498a"
   },
   "outputs": [
    {
     "data": {
      "text/html": [
       "<div>\n",
       "<style scoped>\n",
       "    .dataframe tbody tr th:only-of-type {\n",
       "        vertical-align: middle;\n",
       "    }\n",
       "\n",
       "    .dataframe tbody tr th {\n",
       "        vertical-align: top;\n",
       "    }\n",
       "\n",
       "    .dataframe thead th {\n",
       "        text-align: right;\n",
       "    }\n",
       "</style>\n",
       "<table border=\"1\" class=\"dataframe\">\n",
       "  <thead>\n",
       "    <tr style=\"text-align: right;\">\n",
       "      <th></th>\n",
       "      <th>State</th>\n",
       "      <th>Year</th>\n",
       "      <th>Type_code</th>\n",
       "      <th>Type</th>\n",
       "      <th>Gender</th>\n",
       "      <th>Age_group</th>\n",
       "      <th>Total</th>\n",
       "    </tr>\n",
       "  </thead>\n",
       "  <tbody>\n",
       "    <tr>\n",
       "      <td>0</td>\n",
       "      <td>A &amp; N Islands</td>\n",
       "      <td>2007</td>\n",
       "      <td>Causes</td>\n",
       "      <td>Illness (Aids/STD)</td>\n",
       "      <td>Female</td>\n",
       "      <td>0-14</td>\n",
       "      <td>0</td>\n",
       "    </tr>\n",
       "    <tr>\n",
       "      <td>1</td>\n",
       "      <td>A &amp; N Islands</td>\n",
       "      <td>2007</td>\n",
       "      <td>Causes</td>\n",
       "      <td>Bankruptcy or Sudden change in Economic</td>\n",
       "      <td>Female</td>\n",
       "      <td>0-14</td>\n",
       "      <td>0</td>\n",
       "    </tr>\n",
       "    <tr>\n",
       "      <td>2</td>\n",
       "      <td>A &amp; N Islands</td>\n",
       "      <td>2007</td>\n",
       "      <td>Causes</td>\n",
       "      <td>Cancellation/Non-Settlement of Marriage</td>\n",
       "      <td>Female</td>\n",
       "      <td>0-14</td>\n",
       "      <td>0</td>\n",
       "    </tr>\n",
       "    <tr>\n",
       "      <td>3</td>\n",
       "      <td>A &amp; N Islands</td>\n",
       "      <td>2007</td>\n",
       "      <td>Causes</td>\n",
       "      <td>Physical Abuse (Rape/Incest Etc.)</td>\n",
       "      <td>Female</td>\n",
       "      <td>0-14</td>\n",
       "      <td>0</td>\n",
       "    </tr>\n",
       "    <tr>\n",
       "      <td>4</td>\n",
       "      <td>A &amp; N Islands</td>\n",
       "      <td>2007</td>\n",
       "      <td>Causes</td>\n",
       "      <td>Dowry Dispute</td>\n",
       "      <td>Female</td>\n",
       "      <td>0-14</td>\n",
       "      <td>0</td>\n",
       "    </tr>\n",
       "  </tbody>\n",
       "</table>\n",
       "</div>"
      ],
      "text/plain": [
       "           State  Year Type_code                                     Type  \\\n",
       "0  A & N Islands  2007    Causes                       Illness (Aids/STD)   \n",
       "1  A & N Islands  2007    Causes  Bankruptcy or Sudden change in Economic   \n",
       "2  A & N Islands  2007    Causes  Cancellation/Non-Settlement of Marriage   \n",
       "3  A & N Islands  2007    Causes        Physical Abuse (Rape/Incest Etc.)   \n",
       "4  A & N Islands  2007    Causes                            Dowry Dispute   \n",
       "\n",
       "   Gender Age_group  Total  \n",
       "0  Female      0-14      0  \n",
       "1  Female      0-14      0  \n",
       "2  Female      0-14      0  \n",
       "3  Female      0-14      0  \n",
       "4  Female      0-14      0  "
      ]
     },
     "execution_count": 2,
     "metadata": {},
     "output_type": "execute_result"
    }
   ],
   "source": [
    "import numpy as np # linear algebra\n",
    "import pandas as pd # data processing, CSV file I/O (e.g. pd.read_csv)\n",
    "import matplotlib.pyplot as plt\n",
    "import seaborn as sns\n",
    "%matplotlib inline\n",
    "\n",
    "from subprocess import check_output\n",
    "df = pd.read_csv('../input/suicides-in-india-20072018/Suicides in India 2007-2018.csv')\n",
    "df.head()"
   ]
  },
  {
   "cell_type": "code",
   "execution_count": 3,
   "metadata": {},
   "outputs": [
    {
     "data": {
      "text/plain": [
       "(237519, 7)"
      ]
     },
     "execution_count": 3,
     "metadata": {},
     "output_type": "execute_result"
    }
   ],
   "source": [
    "df.shape # Find the size of dataframe"
   ]
  },
  {
   "cell_type": "code",
   "execution_count": 4,
   "metadata": {},
   "outputs": [
    {
     "name": "stdout",
     "output_type": "stream",
     "text": [
      "<class 'pandas.core.frame.DataFrame'>\n",
      "RangeIndex: 237519 entries, 0 to 237518\n",
      "Data columns (total 7 columns):\n",
      "State        237519 non-null object\n",
      "Year         237519 non-null int64\n",
      "Type_code    237519 non-null object\n",
      "Type         237519 non-null object\n",
      "Gender       237519 non-null object\n",
      "Age_group    237519 non-null object\n",
      "Total        237519 non-null int64\n",
      "dtypes: int64(2), object(5)\n",
      "memory usage: 12.7+ MB\n"
     ]
    }
   ],
   "source": [
    "df.info() # Find the count and datatype of field"
   ]
  },
  {
   "cell_type": "code",
   "execution_count": 5,
   "metadata": {},
   "outputs": [
    {
     "data": {
      "text/html": [
       "<div>\n",
       "<style scoped>\n",
       "    .dataframe tbody tr th:only-of-type {\n",
       "        vertical-align: middle;\n",
       "    }\n",
       "\n",
       "    .dataframe tbody tr th {\n",
       "        vertical-align: top;\n",
       "    }\n",
       "\n",
       "    .dataframe thead th {\n",
       "        text-align: right;\n",
       "    }\n",
       "</style>\n",
       "<table border=\"1\" class=\"dataframe\">\n",
       "  <thead>\n",
       "    <tr style=\"text-align: right;\">\n",
       "      <th></th>\n",
       "      <th>Year</th>\n",
       "      <th>Total</th>\n",
       "    </tr>\n",
       "  </thead>\n",
       "  <tbody>\n",
       "    <tr>\n",
       "      <td>count</td>\n",
       "      <td>237519.000000</td>\n",
       "      <td>237519.000000</td>\n",
       "    </tr>\n",
       "    <tr>\n",
       "      <td>mean</td>\n",
       "      <td>2012.500448</td>\n",
       "      <td>55.034578</td>\n",
       "    </tr>\n",
       "    <tr>\n",
       "      <td>std</td>\n",
       "      <td>3.452240</td>\n",
       "      <td>792.749287</td>\n",
       "    </tr>\n",
       "    <tr>\n",
       "      <td>min</td>\n",
       "      <td>2007.000000</td>\n",
       "      <td>0.000000</td>\n",
       "    </tr>\n",
       "    <tr>\n",
       "      <td>25%</td>\n",
       "      <td>2010.000000</td>\n",
       "      <td>0.000000</td>\n",
       "    </tr>\n",
       "    <tr>\n",
       "      <td>50%</td>\n",
       "      <td>2013.000000</td>\n",
       "      <td>0.000000</td>\n",
       "    </tr>\n",
       "    <tr>\n",
       "      <td>75%</td>\n",
       "      <td>2016.000000</td>\n",
       "      <td>6.000000</td>\n",
       "    </tr>\n",
       "    <tr>\n",
       "      <td>max</td>\n",
       "      <td>2018.000000</td>\n",
       "      <td>63343.000000</td>\n",
       "    </tr>\n",
       "  </tbody>\n",
       "</table>\n",
       "</div>"
      ],
      "text/plain": [
       "                Year          Total\n",
       "count  237519.000000  237519.000000\n",
       "mean     2012.500448      55.034578\n",
       "std         3.452240     792.749287\n",
       "min      2007.000000       0.000000\n",
       "25%      2010.000000       0.000000\n",
       "50%      2013.000000       0.000000\n",
       "75%      2016.000000       6.000000\n",
       "max      2018.000000   63343.000000"
      ]
     },
     "execution_count": 5,
     "metadata": {},
     "output_type": "execute_result"
    }
   ],
   "source": [
    "df.describe() #Find statistics like count, mean, standard deviation, etc"
   ]
  },
  {
   "cell_type": "code",
   "execution_count": 6,
   "metadata": {},
   "outputs": [
    {
     "data": {
      "text/plain": [
       "((237519, 7), (7296, 7))"
      ]
     },
     "execution_count": 6,
     "metadata": {},
     "output_type": "execute_result"
    }
   ],
   "source": [
    "#Segregate the data by Type_code : Eg. Education status of persons doing suicide\n",
    "eduDf = df[df['Type_code']=='Education_Status']\n",
    "df.shape, eduDf.shape"
   ]
  },
  {
   "cell_type": "code",
   "execution_count": 7,
   "metadata": {},
   "outputs": [],
   "source": [
    "#Segregate the data by Type_code\n",
    "causesDf = df[df['Type_code']=='Causes']\n",
    "profDf = df[df['Type_code']=='Professional_Profile']\n",
    "socialDf = df[df['Type_code']=='Social_Status']"
   ]
  },
  {
   "cell_type": "code",
   "execution_count": 8,
   "metadata": {},
   "outputs": [
    {
     "data": {
      "text/plain": [
       "((237519, 7), (7296, 7), (109200, 7), (49263, 7), (4560, 7))"
      ]
     },
     "execution_count": 8,
     "metadata": {},
     "output_type": "execute_result"
    }
   ],
   "source": [
    "df.shape, eduDf.shape, causesDf.shape, profDf.shape, socialDf.shape"
   ]
  },
  {
   "cell_type": "code",
   "execution_count": 9,
   "metadata": {},
   "outputs": [
    {
     "data": {
      "text/html": [
       "<div>\n",
       "<style scoped>\n",
       "    .dataframe tbody tr th:only-of-type {\n",
       "        vertical-align: middle;\n",
       "    }\n",
       "\n",
       "    .dataframe tbody tr th {\n",
       "        vertical-align: top;\n",
       "    }\n",
       "\n",
       "    .dataframe thead th {\n",
       "        text-align: right;\n",
       "    }\n",
       "</style>\n",
       "<table border=\"1\" class=\"dataframe\">\n",
       "  <thead>\n",
       "    <tr style=\"text-align: right;\">\n",
       "      <th></th>\n",
       "      <th>State</th>\n",
       "      <th>Year</th>\n",
       "      <th>Type_code</th>\n",
       "      <th>Type</th>\n",
       "      <th>Gender</th>\n",
       "      <th>Age_group</th>\n",
       "      <th>Total</th>\n",
       "    </tr>\n",
       "  </thead>\n",
       "  <tbody>\n",
       "    <tr>\n",
       "      <td>260</td>\n",
       "      <td>A &amp; N Islands</td>\n",
       "      <td>2007</td>\n",
       "      <td>Education_Status</td>\n",
       "      <td>Diploma</td>\n",
       "      <td>Female</td>\n",
       "      <td>0-100+</td>\n",
       "      <td>0</td>\n",
       "    </tr>\n",
       "    <tr>\n",
       "      <td>261</td>\n",
       "      <td>A &amp; N Islands</td>\n",
       "      <td>2007</td>\n",
       "      <td>Education_Status</td>\n",
       "      <td>No Education</td>\n",
       "      <td>Female</td>\n",
       "      <td>0-100+</td>\n",
       "      <td>4</td>\n",
       "    </tr>\n",
       "    <tr>\n",
       "      <td>262</td>\n",
       "      <td>A &amp; N Islands</td>\n",
       "      <td>2007</td>\n",
       "      <td>Education_Status</td>\n",
       "      <td>Post Graduate and Above</td>\n",
       "      <td>Female</td>\n",
       "      <td>0-100+</td>\n",
       "      <td>0</td>\n",
       "    </tr>\n",
       "    <tr>\n",
       "      <td>263</td>\n",
       "      <td>A &amp; N Islands</td>\n",
       "      <td>2007</td>\n",
       "      <td>Education_Status</td>\n",
       "      <td>Middle</td>\n",
       "      <td>Female</td>\n",
       "      <td>0-100+</td>\n",
       "      <td>33</td>\n",
       "    </tr>\n",
       "    <tr>\n",
       "      <td>264</td>\n",
       "      <td>A &amp; N Islands</td>\n",
       "      <td>2007</td>\n",
       "      <td>Education_Status</td>\n",
       "      <td>Graduate</td>\n",
       "      <td>Female</td>\n",
       "      <td>0-100+</td>\n",
       "      <td>0</td>\n",
       "    </tr>\n",
       "  </tbody>\n",
       "</table>\n",
       "</div>"
      ],
      "text/plain": [
       "             State  Year         Type_code                     Type  Gender  \\\n",
       "260  A & N Islands  2007  Education_Status                  Diploma  Female   \n",
       "261  A & N Islands  2007  Education_Status             No Education  Female   \n",
       "262  A & N Islands  2007  Education_Status  Post Graduate and Above  Female   \n",
       "263  A & N Islands  2007  Education_Status                   Middle  Female   \n",
       "264  A & N Islands  2007  Education_Status                 Graduate  Female   \n",
       "\n",
       "    Age_group  Total  \n",
       "260    0-100+      0  \n",
       "261    0-100+      4  \n",
       "262    0-100+      0  \n",
       "263    0-100+     33  \n",
       "264    0-100+      0  "
      ]
     },
     "execution_count": 9,
     "metadata": {},
     "output_type": "execute_result"
    }
   ],
   "source": [
    "eduDf.head() # Similarly we can display for every Type_code"
   ]
  },
  {
   "cell_type": "markdown",
   "metadata": {},
   "source": [
    "**1. Distribution of suicides according to Educational status and Gender**"
   ]
  },
  {
   "cell_type": "code",
   "execution_count": 10,
   "metadata": {},
   "outputs": [
    {
     "data": {
      "text/html": [
       "<div>\n",
       "<style scoped>\n",
       "    .dataframe tbody tr th:only-of-type {\n",
       "        vertical-align: middle;\n",
       "    }\n",
       "\n",
       "    .dataframe tbody tr th {\n",
       "        vertical-align: top;\n",
       "    }\n",
       "\n",
       "    .dataframe thead th {\n",
       "        text-align: right;\n",
       "    }\n",
       "</style>\n",
       "<table border=\"1\" class=\"dataframe\">\n",
       "  <thead>\n",
       "    <tr style=\"text-align: right;\">\n",
       "      <th></th>\n",
       "      <th>Type</th>\n",
       "      <th>Gender</th>\n",
       "      <th>Total</th>\n",
       "    </tr>\n",
       "  </thead>\n",
       "  <tbody>\n",
       "    <tr>\n",
       "      <td>260</td>\n",
       "      <td>Diploma</td>\n",
       "      <td>Female</td>\n",
       "      <td>0</td>\n",
       "    </tr>\n",
       "    <tr>\n",
       "      <td>261</td>\n",
       "      <td>No Education</td>\n",
       "      <td>Female</td>\n",
       "      <td>4</td>\n",
       "    </tr>\n",
       "    <tr>\n",
       "      <td>262</td>\n",
       "      <td>Post Graduate and Above</td>\n",
       "      <td>Female</td>\n",
       "      <td>0</td>\n",
       "    </tr>\n",
       "    <tr>\n",
       "      <td>263</td>\n",
       "      <td>Middle</td>\n",
       "      <td>Female</td>\n",
       "      <td>33</td>\n",
       "    </tr>\n",
       "    <tr>\n",
       "      <td>264</td>\n",
       "      <td>Graduate</td>\n",
       "      <td>Female</td>\n",
       "      <td>0</td>\n",
       "    </tr>\n",
       "  </tbody>\n",
       "</table>\n",
       "</div>"
      ],
      "text/plain": [
       "                        Type  Gender  Total\n",
       "260                  Diploma  Female      0\n",
       "261             No Education  Female      4\n",
       "262  Post Graduate and Above  Female      0\n",
       "263                   Middle  Female     33\n",
       "264                 Graduate  Female      0"
      ]
     },
     "execution_count": 10,
     "metadata": {},
     "output_type": "execute_result"
    }
   ],
   "source": [
    "eduDf = eduDf[['Type','Gender','Total']] #Extract Type, Gender and Total\n",
    "eduDf.head()"
   ]
  },
  {
   "cell_type": "code",
   "execution_count": 11,
   "metadata": {},
   "outputs": [
    {
     "data": {
      "text/html": [
       "<div>\n",
       "<style scoped>\n",
       "    .dataframe tbody tr th:only-of-type {\n",
       "        vertical-align: middle;\n",
       "    }\n",
       "\n",
       "    .dataframe tbody tr th {\n",
       "        vertical-align: top;\n",
       "    }\n",
       "\n",
       "    .dataframe thead th {\n",
       "        text-align: right;\n",
       "    }\n",
       "</style>\n",
       "<table border=\"1\" class=\"dataframe\">\n",
       "  <thead>\n",
       "    <tr style=\"text-align: right;\">\n",
       "      <th></th>\n",
       "      <th>Type</th>\n",
       "      <th>Gender</th>\n",
       "      <th>Total</th>\n",
       "    </tr>\n",
       "  </thead>\n",
       "  <tbody>\n",
       "    <tr>\n",
       "      <td>15</td>\n",
       "      <td>Primary</td>\n",
       "      <td>Male</td>\n",
       "      <td>679473</td>\n",
       "    </tr>\n",
       "    <tr>\n",
       "      <td>9</td>\n",
       "      <td>Middle</td>\n",
       "      <td>Male</td>\n",
       "      <td>675624</td>\n",
       "    </tr>\n",
       "    <tr>\n",
       "      <td>11</td>\n",
       "      <td>No Education</td>\n",
       "      <td>Male</td>\n",
       "      <td>566445</td>\n",
       "    </tr>\n",
       "    <tr>\n",
       "      <td>7</td>\n",
       "      <td>Matriculate/Secondary</td>\n",
       "      <td>Male</td>\n",
       "      <td>523878</td>\n",
       "    </tr>\n",
       "    <tr>\n",
       "      <td>14</td>\n",
       "      <td>Primary</td>\n",
       "      <td>Female</td>\n",
       "      <td>409020</td>\n",
       "    </tr>\n",
       "  </tbody>\n",
       "</table>\n",
       "</div>"
      ],
      "text/plain": [
       "                     Type  Gender   Total\n",
       "15                Primary    Male  679473\n",
       "9                  Middle    Male  675624\n",
       "11           No Education    Male  566445\n",
       "7   Matriculate/Secondary    Male  523878\n",
       "14                Primary  Female  409020"
      ]
     },
     "execution_count": 11,
     "metadata": {},
     "output_type": "execute_result"
    }
   ],
   "source": [
    "#Group the data by 1. Type and 2. Gender, Calculate the sum of each group, sort the values by Total\n",
    "edSort = eduDf.groupby(['Type','Gender'],as_index=False).sum().sort_values('Total',ascending=False) \n",
    "#as_index=False -> Type and Gender will not be used as Index\n",
    "edSort.head()"
   ]
  },
  {
   "cell_type": "code",
   "execution_count": 12,
   "metadata": {},
   "outputs": [
    {
     "data": {
      "image/png": "[encoded data removed]",
      "text/plain": [
       "<Figure size 864x432 with 1 Axes>"
      ]
     },
     "metadata": {
      "needs_background": "light"
     },
     "output_type": "display_data"
    }
   ],
   "source": [
    "plt.figure(figsize=(12,6))\n",
    "sns.barplot(x='Type',y='Total',hue='Gender',data=edSort,palette='Set1')\n",
    "#hue = Legend, Palette= Color Scheme (Palette types: plasma, viridis, inferno, magma, Blues, Accent, Dark2, Paired etc)\n",
    "#for palette list: https://bokeh.pydata.org/en/latest/docs/reference/palettes.html\n",
    "plt.xticks(rotation=45,ha='right')\n",
    "plt.tight_layout()"
   ]
  },
  {
   "cell_type": "markdown",
   "metadata": {},
   "source": [
    "Number of suicides appear to be concentrated towards Lower education level. Most of the people who have committed suicides have education level below Matriculate/Secondary."
   ]
  },
  {
   "cell_type": "markdown",
   "metadata": {},
   "source": [
    "**2. Distribution of number of suicides on the basis of social status**"
   ]
  },
  {
   "cell_type": "code",
   "execution_count": 13,
   "metadata": {},
   "outputs": [
    {
     "data": {
      "text/html": [
       "<div>\n",
       "<style scoped>\n",
       "    .dataframe tbody tr th:only-of-type {\n",
       "        vertical-align: middle;\n",
       "    }\n",
       "\n",
       "    .dataframe tbody tr th {\n",
       "        vertical-align: top;\n",
       "    }\n",
       "\n",
       "    .dataframe thead th {\n",
       "        text-align: right;\n",
       "    }\n",
       "</style>\n",
       "<table border=\"1\" class=\"dataframe\">\n",
       "  <thead>\n",
       "    <tr style=\"text-align: right;\">\n",
       "      <th></th>\n",
       "      <th>Type</th>\n",
       "      <th>Gender</th>\n",
       "      <th>Total</th>\n",
       "    </tr>\n",
       "  </thead>\n",
       "  <tbody>\n",
       "    <tr>\n",
       "      <td>3</td>\n",
       "      <td>Married</td>\n",
       "      <td>Male</td>\n",
       "      <td>1995021</td>\n",
       "    </tr>\n",
       "    <tr>\n",
       "      <td>2</td>\n",
       "      <td>Married</td>\n",
       "      <td>Female</td>\n",
       "      <td>1070301</td>\n",
       "    </tr>\n",
       "    <tr>\n",
       "      <td>5</td>\n",
       "      <td>Never Married</td>\n",
       "      <td>Male</td>\n",
       "      <td>608523</td>\n",
       "    </tr>\n",
       "    <tr>\n",
       "      <td>4</td>\n",
       "      <td>Never Married</td>\n",
       "      <td>Female</td>\n",
       "      <td>346380</td>\n",
       "    </tr>\n",
       "    <tr>\n",
       "      <td>9</td>\n",
       "      <td>Widowed/Widower</td>\n",
       "      <td>Male</td>\n",
       "      <td>96552</td>\n",
       "    </tr>\n",
       "  </tbody>\n",
       "</table>\n",
       "</div>"
      ],
      "text/plain": [
       "              Type  Gender    Total\n",
       "3          Married    Male  1995021\n",
       "2          Married  Female  1070301\n",
       "5    Never Married    Male   608523\n",
       "4    Never Married  Female   346380\n",
       "9  Widowed/Widower    Male    96552"
      ]
     },
     "execution_count": 13,
     "metadata": {},
     "output_type": "execute_result"
    }
   ],
   "source": [
    "socialDf = socialDf[['Type','Gender','Total']]\n",
    "socialSort = socialDf.groupby(['Type','Gender'],as_index=False).sum().sort_values('Total',ascending=False)\n",
    "socialSort.head()"
   ]
  },
  {
   "cell_type": "code",
   "execution_count": 14,
   "metadata": {},
   "outputs": [
    {
     "data": {
      "image/png": "[encoded data removed]",
      "text/plain": [
       "<Figure size 648x432 with 1 Axes>"
      ]
     },
     "metadata": {
      "needs_background": "light"
     },
     "output_type": "display_data"
    }
   ],
   "source": [
    "plt.figure(figsize=(9,6))\n",
    "sns.barplot(x='Type',y='Total',data=socialSort,hue='Gender',palette='Set1')\n",
    "plt.xticks(rotation=45,ha='right')\n",
    "plt.tight_layout()"
   ]
  },
  {
   "cell_type": "markdown",
   "metadata": {},
   "source": [
    "**3. Distribution of number of suicided on the basis of Cause**"
   ]
  },
  {
   "cell_type": "code",
   "execution_count": 15,
   "metadata": {},
   "outputs": [
    {
     "name": "stderr",
     "output_type": "stream",
     "text": [
      "/opt/conda/lib/python3.6/site-packages/pandas/core/generic.py:5191: FutureWarning: Attribute 'is_copy' is deprecated and will be removed in a future version.\n",
      "  object.__getattribute__(self, name)\n",
      "/opt/conda/lib/python3.6/site-packages/pandas/core/generic.py:5192: FutureWarning: Attribute 'is_copy' is deprecated and will be removed in a future version.\n",
      "  return object.__setattr__(self, name, value)\n"
     ]
    },
    {
     "data": {
      "image/png": "[encoded data removed]",
      "text/plain": [
       "<Figure size 864x432 with 1 Axes>"
      ]
     },
     "metadata": {
      "needs_background": "light"
     },
     "output_type": "display_data"
    }
   ],
   "source": [
    "causesDf.is_copy = False\n",
    "causesDf.loc[causesDf['Type']=='Bankruptcy or Sudden change in Economic','Type'] = 'Change in Economic Status'\n",
    "causesDf.loc[causesDf['Type']=='Bankruptcy or Sudden change in Economic Status','Type'] = 'Change in Economic Status'\n",
    "causesDf.loc[causesDf['Type']=='Other Causes (Please Specity)','Type'] = 'Causes Not known'\n",
    "causesDf.loc[causesDf['Type']=='Not having Children (Barrenness/Impotency','Type'] = 'Not having Children(Barrenness/Impotency'\n",
    "plt.figure(figsize=(12,6))\n",
    "causesDf = causesDf[['Type','Gender','Total']]\n",
    "causesSort = causesDf.groupby(['Type','Gender'],as_index=False).sum().sort_values('Total',ascending=False)\n",
    "sns.barplot(x='Type',y='Total',data=causesSort,hue='Gender',palette='Set1')\n",
    "plt.xticks(rotation=45,ha='right')\n",
    "plt.tight_layout()"
   ]
  },
  {
   "cell_type": "markdown",
   "metadata": {},
   "source": [
    "While most of the causes of the suicides are not known, the three major causes among the known cases are Family problems, Prolonged illness and mental illness.\n",
    "\n",
    "According to the data men seem to be badly effected by unemployment, property dispute, poverty,drug abuse or addiction and change in economic status than women.\n",
    "\n",
    "Number of women who have committed suicides due to dowry disputes is much higher when compared to men,"
   ]
  },
  {
   "cell_type": "markdown",
   "metadata": {},
   "source": [
    "**4. Distribution of number of suicided on the basis of Professional Profile**"
   ]
  },
  {
   "cell_type": "code",
   "execution_count": 16,
   "metadata": {},
   "outputs": [
    {
     "data": {
      "image/png": "[encoded data removed]",
      "text/plain": [
       "<Figure size 864x432 with 1 Axes>"
      ]
     },
     "metadata": {
      "needs_background": "light"
     },
     "output_type": "display_data"
    }
   ],
   "source": [
    "plt.figure(figsize=(12,6))\n",
    "profDf = profDf[['Type','Gender','Total']]\n",
    "profSort = profDf.groupby(['Type','Gender'],as_index=False).sum().sort_values('Total',ascending=False)\n",
    "sns.barplot(x='Type',y='Total',data=profSort,hue='Gender',palette='Set1')\n",
    "plt.xticks(rotation=45,ha='right')\n",
    "plt.tight_layout()"
   ]
  },
  {
   "cell_type": "markdown",
   "metadata": {},
   "source": [
    "According to the data, most of the females who have committed suicides are house wives. The percentage of female suicides in all other categories is much lower than the percentage of male suicides. While this is an indication of lower representation by women in professional careers, it also reiterates the importance of girl education and women empowerment. The graph shows that financially independent women are much mentally stronger.\n",
    "It is disheartening to see that farmers who feed the rest of the country are the ones who are more committing suicides than any other profession. Followed by farmers, it's the unemployed and private sector employees who are most effected. It's surprising to know that the number of suicides among the unemployed and the private sector employees is almost the same. This also might be due to higher pressure in private sector when compared to government sector jobs."
   ]
  },
  {
   "cell_type": "markdown",
   "metadata": {},
   "source": [
    "**5. Distribution of number of suicides on the basis of State and Age group**"
   ]
  },
  {
   "cell_type": "code",
   "execution_count": 17,
   "metadata": {},
   "outputs": [
    {
     "data": {
      "text/html": [
       "<div>\n",
       "<style scoped>\n",
       "    .dataframe tbody tr th:only-of-type {\n",
       "        vertical-align: middle;\n",
       "    }\n",
       "\n",
       "    .dataframe tbody tr th {\n",
       "        vertical-align: top;\n",
       "    }\n",
       "\n",
       "    .dataframe thead th {\n",
       "        text-align: right;\n",
       "    }\n",
       "</style>\n",
       "<table border=\"1\" class=\"dataframe\">\n",
       "  <thead>\n",
       "    <tr style=\"text-align: right;\">\n",
       "      <th></th>\n",
       "      <th>State</th>\n",
       "      <th>Year</th>\n",
       "      <th>Type_code</th>\n",
       "      <th>Type</th>\n",
       "      <th>Gender</th>\n",
       "      <th>Age_group</th>\n",
       "      <th>Total</th>\n",
       "    </tr>\n",
       "  </thead>\n",
       "  <tbody>\n",
       "    <tr>\n",
       "      <td>0</td>\n",
       "      <td>A &amp; N Islands</td>\n",
       "      <td>2007</td>\n",
       "      <td>Causes</td>\n",
       "      <td>Illness (Aids/STD)</td>\n",
       "      <td>Female</td>\n",
       "      <td>0-14</td>\n",
       "      <td>0</td>\n",
       "    </tr>\n",
       "    <tr>\n",
       "      <td>1</td>\n",
       "      <td>A &amp; N Islands</td>\n",
       "      <td>2007</td>\n",
       "      <td>Causes</td>\n",
       "      <td>Bankruptcy or Sudden change in Economic</td>\n",
       "      <td>Female</td>\n",
       "      <td>0-14</td>\n",
       "      <td>0</td>\n",
       "    </tr>\n",
       "    <tr>\n",
       "      <td>2</td>\n",
       "      <td>A &amp; N Islands</td>\n",
       "      <td>2007</td>\n",
       "      <td>Causes</td>\n",
       "      <td>Cancellation/Non-Settlement of Marriage</td>\n",
       "      <td>Female</td>\n",
       "      <td>0-14</td>\n",
       "      <td>0</td>\n",
       "    </tr>\n",
       "    <tr>\n",
       "      <td>3</td>\n",
       "      <td>A &amp; N Islands</td>\n",
       "      <td>2007</td>\n",
       "      <td>Causes</td>\n",
       "      <td>Physical Abuse (Rape/Incest Etc.)</td>\n",
       "      <td>Female</td>\n",
       "      <td>0-14</td>\n",
       "      <td>0</td>\n",
       "    </tr>\n",
       "    <tr>\n",
       "      <td>4</td>\n",
       "      <td>A &amp; N Islands</td>\n",
       "      <td>2007</td>\n",
       "      <td>Causes</td>\n",
       "      <td>Dowry Dispute</td>\n",
       "      <td>Female</td>\n",
       "      <td>0-14</td>\n",
       "      <td>0</td>\n",
       "    </tr>\n",
       "  </tbody>\n",
       "</table>\n",
       "</div>"
      ],
      "text/plain": [
       "           State  Year Type_code                                     Type  \\\n",
       "0  A & N Islands  2007    Causes                       Illness (Aids/STD)   \n",
       "1  A & N Islands  2007    Causes  Bankruptcy or Sudden change in Economic   \n",
       "2  A & N Islands  2007    Causes  Cancellation/Non-Settlement of Marriage   \n",
       "3  A & N Islands  2007    Causes        Physical Abuse (Rape/Incest Etc.)   \n",
       "4  A & N Islands  2007    Causes                            Dowry Dispute   \n",
       "\n",
       "   Gender Age_group  Total  \n",
       "0  Female      0-14      0  \n",
       "1  Female      0-14      0  \n",
       "2  Female      0-14      0  \n",
       "3  Female      0-14      0  \n",
       "4  Female      0-14      0  "
      ]
     },
     "execution_count": 17,
     "metadata": {},
     "output_type": "execute_result"
    }
   ],
   "source": [
    "causes = df[df['Type_code']=='Causes']\n",
    "causes.head()"
   ]
  },
  {
   "cell_type": "code",
   "execution_count": 18,
   "metadata": {},
   "outputs": [
    {
     "data": {
      "text/html": [
       "<div>\n",
       "<style scoped>\n",
       "    .dataframe tbody tr th:only-of-type {\n",
       "        vertical-align: middle;\n",
       "    }\n",
       "\n",
       "    .dataframe tbody tr th {\n",
       "        vertical-align: top;\n",
       "    }\n",
       "\n",
       "    .dataframe thead th {\n",
       "        text-align: right;\n",
       "    }\n",
       "</style>\n",
       "<table border=\"1\" class=\"dataframe\">\n",
       "  <thead>\n",
       "    <tr style=\"text-align: right;\">\n",
       "      <th></th>\n",
       "      <th>State</th>\n",
       "      <th>Age_group</th>\n",
       "      <th>Year</th>\n",
       "      <th>Total</th>\n",
       "    </tr>\n",
       "  </thead>\n",
       "  <tbody>\n",
       "    <tr>\n",
       "      <td>0</td>\n",
       "      <td>A &amp; N Islands</td>\n",
       "      <td>0-14</td>\n",
       "      <td>1255800</td>\n",
       "      <td>53</td>\n",
       "    </tr>\n",
       "    <tr>\n",
       "      <td>1</td>\n",
       "      <td>A &amp; N Islands</td>\n",
       "      <td>15-29</td>\n",
       "      <td>1255800</td>\n",
       "      <td>630</td>\n",
       "    </tr>\n",
       "    <tr>\n",
       "      <td>2</td>\n",
       "      <td>A &amp; N Islands</td>\n",
       "      <td>30-44</td>\n",
       "      <td>1255800</td>\n",
       "      <td>464</td>\n",
       "    </tr>\n",
       "    <tr>\n",
       "      <td>3</td>\n",
       "      <td>A &amp; N Islands</td>\n",
       "      <td>45-59</td>\n",
       "      <td>1255800</td>\n",
       "      <td>311</td>\n",
       "    </tr>\n",
       "    <tr>\n",
       "      <td>4</td>\n",
       "      <td>A &amp; N Islands</td>\n",
       "      <td>60+</td>\n",
       "      <td>1255800</td>\n",
       "      <td>165</td>\n",
       "    </tr>\n",
       "  </tbody>\n",
       "</table>\n",
       "</div>"
      ],
      "text/plain": [
       "           State Age_group     Year  Total\n",
       "0  A & N Islands      0-14  1255800     53\n",
       "1  A & N Islands     15-29  1255800    630\n",
       "2  A & N Islands     30-44  1255800    464\n",
       "3  A & N Islands     45-59  1255800    311\n",
       "4  A & N Islands       60+  1255800    165"
      ]
     },
     "execution_count": 18,
     "metadata": {},
     "output_type": "execute_result"
    }
   ],
   "source": [
    "causesGrp = causes.groupby(['State','Age_group'],as_index=False).sum()\n",
    "causesGrp.head()"
   ]
  },
  {
   "cell_type": "code",
   "execution_count": 19,
   "metadata": {},
   "outputs": [
    {
     "data": {
      "text/html": [
       "<div>\n",
       "<style scoped>\n",
       "    .dataframe tbody tr th:only-of-type {\n",
       "        vertical-align: middle;\n",
       "    }\n",
       "\n",
       "    .dataframe tbody tr th {\n",
       "        vertical-align: top;\n",
       "    }\n",
       "\n",
       "    .dataframe thead th {\n",
       "        text-align: right;\n",
       "    }\n",
       "</style>\n",
       "<table border=\"1\" class=\"dataframe\">\n",
       "  <thead>\n",
       "    <tr style=\"text-align: right;\">\n",
       "      <th>State</th>\n",
       "      <th>A &amp; N Islands</th>\n",
       "      <th>Andhra Pradesh</th>\n",
       "      <th>Arunachal Pradesh</th>\n",
       "      <th>Assam</th>\n",
       "      <th>Bihar</th>\n",
       "      <th>Chandigarh</th>\n",
       "      <th>Chhattisgarh</th>\n",
       "      <th>D &amp; N Haveli</th>\n",
       "      <th>Daman &amp; Diu</th>\n",
       "      <th>Delhi (Ut)</th>\n",
       "      <th>...</th>\n",
       "      <th>Odisha</th>\n",
       "      <th>Puducherry</th>\n",
       "      <th>Punjab</th>\n",
       "      <th>Rajasthan</th>\n",
       "      <th>Sikkim</th>\n",
       "      <th>Tamil Nadu</th>\n",
       "      <th>Tripura</th>\n",
       "      <th>Uttar Pradesh</th>\n",
       "      <th>Uttarakhand</th>\n",
       "      <th>West Bengal</th>\n",
       "    </tr>\n",
       "    <tr>\n",
       "      <th>Age_group</th>\n",
       "      <th></th>\n",
       "      <th></th>\n",
       "      <th></th>\n",
       "      <th></th>\n",
       "      <th></th>\n",
       "      <th></th>\n",
       "      <th></th>\n",
       "      <th></th>\n",
       "      <th></th>\n",
       "      <th></th>\n",
       "      <th></th>\n",
       "      <th></th>\n",
       "      <th></th>\n",
       "      <th></th>\n",
       "      <th></th>\n",
       "      <th></th>\n",
       "      <th></th>\n",
       "      <th></th>\n",
       "      <th></th>\n",
       "      <th></th>\n",
       "      <th></th>\n",
       "    </tr>\n",
       "  </thead>\n",
       "  <tbody>\n",
       "    <tr>\n",
       "      <td>0-14</td>\n",
       "      <td>53</td>\n",
       "      <td>3265</td>\n",
       "      <td>49</td>\n",
       "      <td>734</td>\n",
       "      <td>572</td>\n",
       "      <td>16</td>\n",
       "      <td>2040</td>\n",
       "      <td>6</td>\n",
       "      <td>11</td>\n",
       "      <td>423</td>\n",
       "      <td>...</td>\n",
       "      <td>1898</td>\n",
       "      <td>76</td>\n",
       "      <td>149</td>\n",
       "      <td>1512</td>\n",
       "      <td>76</td>\n",
       "      <td>3205</td>\n",
       "      <td>312</td>\n",
       "      <td>1597</td>\n",
       "      <td>104</td>\n",
       "      <td>5038</td>\n",
       "    </tr>\n",
       "    <tr>\n",
       "      <td>15-29</td>\n",
       "      <td>630</td>\n",
       "      <td>55121</td>\n",
       "      <td>572</td>\n",
       "      <td>13384</td>\n",
       "      <td>3720</td>\n",
       "      <td>531</td>\n",
       "      <td>22048</td>\n",
       "      <td>303</td>\n",
       "      <td>131</td>\n",
       "      <td>8861</td>\n",
       "      <td>...</td>\n",
       "      <td>19665</td>\n",
       "      <td>2251</td>\n",
       "      <td>3675</td>\n",
       "      <td>19151</td>\n",
       "      <td>747</td>\n",
       "      <td>52468</td>\n",
       "      <td>3660</td>\n",
       "      <td>20480</td>\n",
       "      <td>1654</td>\n",
       "      <td>56688</td>\n",
       "    </tr>\n",
       "    <tr>\n",
       "      <td>30-44</td>\n",
       "      <td>464</td>\n",
       "      <td>56770</td>\n",
       "      <td>524</td>\n",
       "      <td>12747</td>\n",
       "      <td>3298</td>\n",
       "      <td>349</td>\n",
       "      <td>19954</td>\n",
       "      <td>183</td>\n",
       "      <td>88</td>\n",
       "      <td>5388</td>\n",
       "      <td>...</td>\n",
       "      <td>17961</td>\n",
       "      <td>2122</td>\n",
       "      <td>3172</td>\n",
       "      <td>18672</td>\n",
       "      <td>580</td>\n",
       "      <td>56599</td>\n",
       "      <td>3135</td>\n",
       "      <td>14524</td>\n",
       "      <td>1256</td>\n",
       "      <td>56391</td>\n",
       "    </tr>\n",
       "    <tr>\n",
       "      <td>45-59</td>\n",
       "      <td>311</td>\n",
       "      <td>34917</td>\n",
       "      <td>160</td>\n",
       "      <td>6601</td>\n",
       "      <td>1241</td>\n",
       "      <td>111</td>\n",
       "      <td>11907</td>\n",
       "      <td>121</td>\n",
       "      <td>42</td>\n",
       "      <td>1746</td>\n",
       "      <td>...</td>\n",
       "      <td>10405</td>\n",
       "      <td>1396</td>\n",
       "      <td>1585</td>\n",
       "      <td>9480</td>\n",
       "      <td>361</td>\n",
       "      <td>36792</td>\n",
       "      <td>1568</td>\n",
       "      <td>7105</td>\n",
       "      <td>552</td>\n",
       "      <td>33414</td>\n",
       "    </tr>\n",
       "    <tr>\n",
       "      <td>60+</td>\n",
       "      <td>165</td>\n",
       "      <td>12747</td>\n",
       "      <td>23</td>\n",
       "      <td>1003</td>\n",
       "      <td>414</td>\n",
       "      <td>27</td>\n",
       "      <td>4546</td>\n",
       "      <td>73</td>\n",
       "      <td>7</td>\n",
       "      <td>439</td>\n",
       "      <td>...</td>\n",
       "      <td>3519</td>\n",
       "      <td>584</td>\n",
       "      <td>689</td>\n",
       "      <td>2212</td>\n",
       "      <td>160</td>\n",
       "      <td>14749</td>\n",
       "      <td>519</td>\n",
       "      <td>2974</td>\n",
       "      <td>136</td>\n",
       "      <td>9499</td>\n",
       "    </tr>\n",
       "  </tbody>\n",
       "</table>\n",
       "<p>5 rows × 35 columns</p>\n",
       "</div>"
      ],
      "text/plain": [
       "State      A & N Islands  Andhra Pradesh  Arunachal Pradesh  Assam  Bihar  \\\n",
       "Age_group                                                                   \n",
       "0-14                  53            3265                 49    734    572   \n",
       "15-29                630           55121                572  13384   3720   \n",
       "30-44                464           56770                524  12747   3298   \n",
       "45-59                311           34917                160   6601   1241   \n",
       "60+                  165           12747                 23   1003    414   \n",
       "\n",
       "State      Chandigarh  Chhattisgarh  D & N Haveli  Daman & Diu  Delhi (Ut)  \\\n",
       "Age_group                                                                    \n",
       "0-14               16          2040             6           11         423   \n",
       "15-29             531         22048           303          131        8861   \n",
       "30-44             349         19954           183           88        5388   \n",
       "45-59             111         11907           121           42        1746   \n",
       "60+                27          4546            73            7         439   \n",
       "\n",
       "State      ...  Odisha  Puducherry  Punjab  Rajasthan  Sikkim  Tamil Nadu  \\\n",
       "Age_group  ...                                                              \n",
       "0-14       ...    1898          76     149       1512      76        3205   \n",
       "15-29      ...   19665        2251    3675      19151     747       52468   \n",
       "30-44      ...   17961        2122    3172      18672     580       56599   \n",
       "45-59      ...   10405        1396    1585       9480     361       36792   \n",
       "60+        ...    3519         584     689       2212     160       14749   \n",
       "\n",
       "State      Tripura  Uttar Pradesh  Uttarakhand  West Bengal  \n",
       "Age_group                                                    \n",
       "0-14           312           1597          104         5038  \n",
       "15-29         3660          20480         1654        56688  \n",
       "30-44         3135          14524         1256        56391  \n",
       "45-59         1568           7105          552        33414  \n",
       "60+            519           2974          136         9499  \n",
       "\n",
       "[5 rows x 35 columns]"
      ]
     },
     "execution_count": 19,
     "metadata": {},
     "output_type": "execute_result"
    }
   ],
   "source": [
    "causesGrpPvt = causesGrp.pivot(index='Age_group',columns='State',values='Total')\n",
    "causesGrpPvt.head()"
   ]
  },
  {
   "cell_type": "code",
   "execution_count": 20,
   "metadata": {},
   "outputs": [
    {
     "data": {
      "image/png": "[encoded data removed]",
      "text/plain": [
       "<Figure size 1008x432 with 2 Axes>"
      ]
     },
     "metadata": {
      "needs_background": "light"
     },
     "output_type": "display_data"
    }
   ],
   "source": [
    "plt.figure(figsize=(14,6))\n",
    "plt.xticks(rotation=45,ha='right')\n",
    "sns.heatmap(causesGrpPvt,cmap='YlGnBu')\n",
    "plt.tight_layout()"
   ]
  },
  {
   "cell_type": "markdown",
   "metadata": {},
   "source": [
    "This plot gives us an insight on the number of suicides, based on state and age group. As we can see 15-29 is the most vulnerable age in all states except Kerala. Maharashtra is the state with most number of suicides.Number of suicides per square kilometre might give us some more information on this."
   ]
  },
  {
   "cell_type": "markdown",
   "metadata": {},
   "source": [
    "**6. Distribution of number of suicides on the basis of State and per square km**"
   ]
  },
  {
   "cell_type": "code",
   "execution_count": 21,
   "metadata": {},
   "outputs": [
    {
     "data": {
      "text/html": [
       "<div>\n",
       "<style scoped>\n",
       "    .dataframe tbody tr th:only-of-type {\n",
       "        vertical-align: middle;\n",
       "    }\n",
       "\n",
       "    .dataframe tbody tr th {\n",
       "        vertical-align: top;\n",
       "    }\n",
       "\n",
       "    .dataframe thead th {\n",
       "        text-align: right;\n",
       "    }\n",
       "</style>\n",
       "<table border=\"1\" class=\"dataframe\">\n",
       "  <thead>\n",
       "    <tr style=\"text-align: right;\">\n",
       "      <th></th>\n",
       "      <th>State</th>\n",
       "      <th>Year</th>\n",
       "      <th>Type_code</th>\n",
       "      <th>Type</th>\n",
       "      <th>Gender</th>\n",
       "      <th>Age_group</th>\n",
       "      <th>Total</th>\n",
       "    </tr>\n",
       "  </thead>\n",
       "  <tbody>\n",
       "    <tr>\n",
       "      <td>260</td>\n",
       "      <td>A &amp; N Islands</td>\n",
       "      <td>2007</td>\n",
       "      <td>Education_Status</td>\n",
       "      <td>Diploma</td>\n",
       "      <td>Female</td>\n",
       "      <td>0-100+</td>\n",
       "      <td>0</td>\n",
       "    </tr>\n",
       "    <tr>\n",
       "      <td>261</td>\n",
       "      <td>A &amp; N Islands</td>\n",
       "      <td>2007</td>\n",
       "      <td>Education_Status</td>\n",
       "      <td>No Education</td>\n",
       "      <td>Female</td>\n",
       "      <td>0-100+</td>\n",
       "      <td>4</td>\n",
       "    </tr>\n",
       "    <tr>\n",
       "      <td>262</td>\n",
       "      <td>A &amp; N Islands</td>\n",
       "      <td>2007</td>\n",
       "      <td>Education_Status</td>\n",
       "      <td>Post Graduate and Above</td>\n",
       "      <td>Female</td>\n",
       "      <td>0-100+</td>\n",
       "      <td>0</td>\n",
       "    </tr>\n",
       "    <tr>\n",
       "      <td>263</td>\n",
       "      <td>A &amp; N Islands</td>\n",
       "      <td>2007</td>\n",
       "      <td>Education_Status</td>\n",
       "      <td>Middle</td>\n",
       "      <td>Female</td>\n",
       "      <td>0-100+</td>\n",
       "      <td>33</td>\n",
       "    </tr>\n",
       "    <tr>\n",
       "      <td>264</td>\n",
       "      <td>A &amp; N Islands</td>\n",
       "      <td>2007</td>\n",
       "      <td>Education_Status</td>\n",
       "      <td>Graduate</td>\n",
       "      <td>Female</td>\n",
       "      <td>0-100+</td>\n",
       "      <td>0</td>\n",
       "    </tr>\n",
       "  </tbody>\n",
       "</table>\n",
       "</div>"
      ],
      "text/plain": [
       "             State  Year         Type_code                     Type  Gender  \\\n",
       "260  A & N Islands  2007  Education_Status                  Diploma  Female   \n",
       "261  A & N Islands  2007  Education_Status             No Education  Female   \n",
       "262  A & N Islands  2007  Education_Status  Post Graduate and Above  Female   \n",
       "263  A & N Islands  2007  Education_Status                   Middle  Female   \n",
       "264  A & N Islands  2007  Education_Status                 Graduate  Female   \n",
       "\n",
       "    Age_group  Total  \n",
       "260    0-100+      0  \n",
       "261    0-100+      4  \n",
       "262    0-100+      0  \n",
       "263    0-100+     33  \n",
       "264    0-100+      0  "
      ]
     },
     "execution_count": 21,
     "metadata": {},
     "output_type": "execute_result"
    }
   ],
   "source": [
    "edu = df[df['Type_code']=='Education_Status']\n",
    "edu.head()"
   ]
  },
  {
   "cell_type": "code",
   "execution_count": 22,
   "metadata": {},
   "outputs": [
    {
     "data": {
      "text/html": [
       "<div>\n",
       "<style scoped>\n",
       "    .dataframe tbody tr th:only-of-type {\n",
       "        vertical-align: middle;\n",
       "    }\n",
       "\n",
       "    .dataframe tbody tr th {\n",
       "        vertical-align: top;\n",
       "    }\n",
       "\n",
       "    .dataframe thead th {\n",
       "        text-align: right;\n",
       "    }\n",
       "</style>\n",
       "<table border=\"1\" class=\"dataframe\">\n",
       "  <thead>\n",
       "    <tr style=\"text-align: right;\">\n",
       "      <th></th>\n",
       "      <th>State</th>\n",
       "      <th>Gender</th>\n",
       "      <th>Year</th>\n",
       "      <th>Total</th>\n",
       "    </tr>\n",
       "  </thead>\n",
       "  <tbody>\n",
       "    <tr>\n",
       "      <td>63</td>\n",
       "      <td>Total (All India)</td>\n",
       "      <td>Male</td>\n",
       "      <td>193200</td>\n",
       "      <td>931918</td>\n",
       "    </tr>\n",
       "    <tr>\n",
       "      <td>65</td>\n",
       "      <td>Total (States)</td>\n",
       "      <td>Male</td>\n",
       "      <td>193200</td>\n",
       "      <td>914648</td>\n",
       "    </tr>\n",
       "    <tr>\n",
       "      <td>62</td>\n",
       "      <td>Total (All India)</td>\n",
       "      <td>Female</td>\n",
       "      <td>193200</td>\n",
       "      <td>524013</td>\n",
       "    </tr>\n",
       "    <tr>\n",
       "      <td>64</td>\n",
       "      <td>Total (States)</td>\n",
       "      <td>Female</td>\n",
       "      <td>193200</td>\n",
       "      <td>514365</td>\n",
       "    </tr>\n",
       "    <tr>\n",
       "      <td>41</td>\n",
       "      <td>Maharashtra</td>\n",
       "      <td>Male</td>\n",
       "      <td>193200</td>\n",
       "      <td>121754</td>\n",
       "    </tr>\n",
       "  </tbody>\n",
       "</table>\n",
       "</div>"
      ],
      "text/plain": [
       "                State  Gender    Year   Total\n",
       "63  Total (All India)    Male  193200  931918\n",
       "65     Total (States)    Male  193200  914648\n",
       "62  Total (All India)  Female  193200  524013\n",
       "64     Total (States)  Female  193200  514365\n",
       "41        Maharashtra    Male  193200  121754"
      ]
     },
     "execution_count": 22,
     "metadata": {},
     "output_type": "execute_result"
    }
   ],
   "source": [
    "st = edu.groupby(['State','Gender'],as_index=False).sum().sort_values('Total',ascending=False)\n",
    "st.head()"
   ]
  },
  {
   "cell_type": "code",
   "execution_count": 23,
   "metadata": {},
   "outputs": [
    {
     "data": {
      "text/html": [
       "<div>\n",
       "<style scoped>\n",
       "    .dataframe tbody tr th:only-of-type {\n",
       "        vertical-align: middle;\n",
       "    }\n",
       "\n",
       "    .dataframe tbody tr th {\n",
       "        vertical-align: top;\n",
       "    }\n",
       "\n",
       "    .dataframe thead th {\n",
       "        text-align: right;\n",
       "    }\n",
       "</style>\n",
       "<table border=\"1\" class=\"dataframe\">\n",
       "  <thead>\n",
       "    <tr style=\"text-align: right;\">\n",
       "      <th></th>\n",
       "      <th>State</th>\n",
       "      <th>Gender</th>\n",
       "      <th>Year</th>\n",
       "      <th>Total</th>\n",
       "    </tr>\n",
       "  </thead>\n",
       "  <tbody>\n",
       "    <tr>\n",
       "      <td>41</td>\n",
       "      <td>Maharashtra</td>\n",
       "      <td>Male</td>\n",
       "      <td>193200</td>\n",
       "      <td>121754</td>\n",
       "    </tr>\n",
       "    <tr>\n",
       "      <td>3</td>\n",
       "      <td>Andhra Pradesh</td>\n",
       "      <td>Male</td>\n",
       "      <td>193200</td>\n",
       "      <td>108424</td>\n",
       "    </tr>\n",
       "    <tr>\n",
       "      <td>61</td>\n",
       "      <td>Tamil Nadu</td>\n",
       "      <td>Male</td>\n",
       "      <td>193200</td>\n",
       "      <td>102489</td>\n",
       "    </tr>\n",
       "    <tr>\n",
       "      <td>75</td>\n",
       "      <td>West Bengal</td>\n",
       "      <td>Male</td>\n",
       "      <td>193200</td>\n",
       "      <td>100411</td>\n",
       "    </tr>\n",
       "    <tr>\n",
       "      <td>33</td>\n",
       "      <td>Karnataka</td>\n",
       "      <td>Male</td>\n",
       "      <td>193200</td>\n",
       "      <td>98403</td>\n",
       "    </tr>\n",
       "  </tbody>\n",
       "</table>\n",
       "</div>"
      ],
      "text/plain": [
       "             State Gender    Year   Total\n",
       "41     Maharashtra   Male  193200  121754\n",
       "3   Andhra Pradesh   Male  193200  108424\n",
       "61      Tamil Nadu   Male  193200  102489\n",
       "75     West Bengal   Male  193200  100411\n",
       "33       Karnataka   Male  193200   98403"
      ]
     },
     "execution_count": 23,
     "metadata": {},
     "output_type": "execute_result"
    }
   ],
   "source": [
    "#Removing the entries like \"Total (Stetes)\", \"(All India)\" from the output\n",
    "st = st[(st['State']!='Total (States)') & (st['State']!='Total (All India)') & (st['State']!='Total (Uts)')]\n",
    "st.head()"
   ]
  },
  {
   "cell_type": "code",
   "execution_count": 24,
   "metadata": {},
   "outputs": [
    {
     "data": {
      "text/plain": [
       "{'Maharashtra': 307713,\n",
       " 'West Bengal': 88752,\n",
       " 'Tamil Nadu': 130058,\n",
       " 'Andhra Pradesh': 275045,\n",
       " 'Karnataka': 191791,\n",
       " 'Kerala': 38863,\n",
       " 'Madhya Pradesh': 308350,\n",
       " 'Gujarat': 196024,\n",
       " 'Chhattisgarh': 135191,\n",
       " 'Odisha': 155707,\n",
       " 'Rajasthan': 342239,\n",
       " 'Uttar Pradesh': 243290,\n",
       " 'Assam': 78438,\n",
       " 'Haryana': 44212,\n",
       " 'Delhi (Ut)': 1484,\n",
       " 'Jharkhand': 79714,\n",
       " 'Punjab': 50362,\n",
       " 'Bihar': 94163,\n",
       " 'Tripura': 10486,\n",
       " 'Puducherry': 562,\n",
       " 'Himachal Pradesh': 55673,\n",
       " 'Uttarakhand': 53483,\n",
       " 'Goa': 3702,\n",
       " 'Jammu & Kashmir': 222236,\n",
       " 'Sikkim': 7096,\n",
       " 'A & N Islands': 8249,\n",
       " 'Arunachal Pradesh': 83743,\n",
       " 'Meghalaya': 22429,\n",
       " 'Chandigarh': 114,\n",
       " 'Mizoram': 21081,\n",
       " 'D & N Haveli': 491,\n",
       " 'Manipur': 22327,\n",
       " 'Nagaland': 16579,\n",
       " 'Daman & Diu': 112,\n",
       " 'Lakshadweep': 32}"
      ]
     },
     "execution_count": 24,
     "metadata": {},
     "output_type": "execute_result"
    }
   ],
   "source": [
    "# values for areas are taken from wikipedia\n",
    "statesArea = {'Maharashtra':307713,'West Bengal':88752,'Tamil Nadu':130058,'Andhra Pradesh':275045,'Karnataka':191791,'Kerala':38863,'Madhya Pradesh':308350,'Gujarat':196024,'Chhattisgarh':135191,'Odisha':155707,'Rajasthan':342239,'Uttar Pradesh':243290,'Assam':78438,'Haryana':44212,'Delhi (Ut)':1484,'Jharkhand':79714,'Punjab':50362,'Bihar':94163,'Tripura':10486,'Puducherry':562,'Himachal Pradesh':55673,'Uttarakhand':53483,'Goa':3702,'Jammu & Kashmir':222236,'Sikkim':7096,'A & N Islands':8249,'Arunachal Pradesh':83743,'Meghalaya':22429,'Chandigarh':114,'Mizoram':21081,'D & N Haveli':491,'Manipur':22327,'Nagaland':16579,'Daman & Diu':112,'Lakshadweep':32}\n",
    "statesArea"
   ]
  },
  {
   "cell_type": "code",
   "execution_count": 25,
   "metadata": {},
   "outputs": [
    {
     "data": {
      "text/html": [
       "<div>\n",
       "<style scoped>\n",
       "    .dataframe tbody tr th:only-of-type {\n",
       "        vertical-align: middle;\n",
       "    }\n",
       "\n",
       "    .dataframe tbody tr th {\n",
       "        vertical-align: top;\n",
       "    }\n",
       "\n",
       "    .dataframe thead th {\n",
       "        text-align: right;\n",
       "    }\n",
       "</style>\n",
       "<table border=\"1\" class=\"dataframe\">\n",
       "  <thead>\n",
       "    <tr style=\"text-align: right;\">\n",
       "      <th></th>\n",
       "      <th>State</th>\n",
       "      <th>Gender</th>\n",
       "      <th>Year</th>\n",
       "      <th>Total</th>\n",
       "      <th>Area</th>\n",
       "    </tr>\n",
       "  </thead>\n",
       "  <tbody>\n",
       "    <tr>\n",
       "      <td>41</td>\n",
       "      <td>Maharashtra</td>\n",
       "      <td>Male</td>\n",
       "      <td>193200</td>\n",
       "      <td>121754</td>\n",
       "      <td>307713.0</td>\n",
       "    </tr>\n",
       "    <tr>\n",
       "      <td>3</td>\n",
       "      <td>Andhra Pradesh</td>\n",
       "      <td>Male</td>\n",
       "      <td>193200</td>\n",
       "      <td>108424</td>\n",
       "      <td>275045.0</td>\n",
       "    </tr>\n",
       "    <tr>\n",
       "      <td>61</td>\n",
       "      <td>Tamil Nadu</td>\n",
       "      <td>Male</td>\n",
       "      <td>193200</td>\n",
       "      <td>102489</td>\n",
       "      <td>130058.0</td>\n",
       "    </tr>\n",
       "    <tr>\n",
       "      <td>75</td>\n",
       "      <td>West Bengal</td>\n",
       "      <td>Male</td>\n",
       "      <td>193200</td>\n",
       "      <td>100411</td>\n",
       "      <td>88752.0</td>\n",
       "    </tr>\n",
       "    <tr>\n",
       "      <td>33</td>\n",
       "      <td>Karnataka</td>\n",
       "      <td>Male</td>\n",
       "      <td>193200</td>\n",
       "      <td>98403</td>\n",
       "      <td>191791.0</td>\n",
       "    </tr>\n",
       "  </tbody>\n",
       "</table>\n",
       "</div>"
      ],
      "text/plain": [
       "             State Gender    Year   Total      Area\n",
       "41     Maharashtra   Male  193200  121754  307713.0\n",
       "3   Andhra Pradesh   Male  193200  108424  275045.0\n",
       "61      Tamil Nadu   Male  193200  102489  130058.0\n",
       "75     West Bengal   Male  193200  100411   88752.0\n",
       "33       Karnataka   Male  193200   98403  191791.0"
      ]
     },
     "execution_count": 25,
     "metadata": {},
     "output_type": "execute_result"
    }
   ],
   "source": [
    "#To add the \"Area\" Column into the table/ dataset\n",
    "for state in statesArea.keys():\n",
    "    st.loc[st['State']==state,'Area'] = statesArea[state] \n",
    "st.head()"
   ]
  },
  {
   "cell_type": "code",
   "execution_count": 26,
   "metadata": {},
   "outputs": [
    {
     "data": {
      "text/html": [
       "<div>\n",
       "<style scoped>\n",
       "    .dataframe tbody tr th:only-of-type {\n",
       "        vertical-align: middle;\n",
       "    }\n",
       "\n",
       "    .dataframe tbody tr th {\n",
       "        vertical-align: top;\n",
       "    }\n",
       "\n",
       "    .dataframe thead th {\n",
       "        text-align: right;\n",
       "    }\n",
       "</style>\n",
       "<table border=\"1\" class=\"dataframe\">\n",
       "  <thead>\n",
       "    <tr style=\"text-align: right;\">\n",
       "      <th></th>\n",
       "      <th>State</th>\n",
       "      <th>Gender</th>\n",
       "      <th>Year</th>\n",
       "      <th>Total</th>\n",
       "      <th>Area</th>\n",
       "      <th>Suicides_per_squareKm</th>\n",
       "    </tr>\n",
       "  </thead>\n",
       "  <tbody>\n",
       "    <tr>\n",
       "      <td>41</td>\n",
       "      <td>Maharashtra</td>\n",
       "      <td>Male</td>\n",
       "      <td>193200</td>\n",
       "      <td>121754</td>\n",
       "      <td>307713.0</td>\n",
       "      <td>0.395674</td>\n",
       "    </tr>\n",
       "    <tr>\n",
       "      <td>3</td>\n",
       "      <td>Andhra Pradesh</td>\n",
       "      <td>Male</td>\n",
       "      <td>193200</td>\n",
       "      <td>108424</td>\n",
       "      <td>275045.0</td>\n",
       "      <td>0.394205</td>\n",
       "    </tr>\n",
       "    <tr>\n",
       "      <td>61</td>\n",
       "      <td>Tamil Nadu</td>\n",
       "      <td>Male</td>\n",
       "      <td>193200</td>\n",
       "      <td>102489</td>\n",
       "      <td>130058.0</td>\n",
       "      <td>0.788025</td>\n",
       "    </tr>\n",
       "    <tr>\n",
       "      <td>75</td>\n",
       "      <td>West Bengal</td>\n",
       "      <td>Male</td>\n",
       "      <td>193200</td>\n",
       "      <td>100411</td>\n",
       "      <td>88752.0</td>\n",
       "      <td>1.131366</td>\n",
       "    </tr>\n",
       "    <tr>\n",
       "      <td>33</td>\n",
       "      <td>Karnataka</td>\n",
       "      <td>Male</td>\n",
       "      <td>193200</td>\n",
       "      <td>98403</td>\n",
       "      <td>191791.0</td>\n",
       "      <td>0.513074</td>\n",
       "    </tr>\n",
       "  </tbody>\n",
       "</table>\n",
       "</div>"
      ],
      "text/plain": [
       "             State Gender    Year   Total      Area  Suicides_per_squareKm\n",
       "41     Maharashtra   Male  193200  121754  307713.0               0.395674\n",
       "3   Andhra Pradesh   Male  193200  108424  275045.0               0.394205\n",
       "61      Tamil Nadu   Male  193200  102489  130058.0               0.788025\n",
       "75     West Bengal   Male  193200  100411   88752.0               1.131366\n",
       "33       Karnataka   Male  193200   98403  191791.0               0.513074"
      ]
     },
     "execution_count": 26,
     "metadata": {},
     "output_type": "execute_result"
    }
   ],
   "source": [
    "st['Suicides_per_squareKm'] = st['Total']/st['Area']\n",
    "st.head()"
   ]
  },
  {
   "cell_type": "code",
   "execution_count": 27,
   "metadata": {},
   "outputs": [
    {
     "data": {
      "text/html": [
       "<div>\n",
       "<style scoped>\n",
       "    .dataframe tbody tr th:only-of-type {\n",
       "        vertical-align: middle;\n",
       "    }\n",
       "\n",
       "    .dataframe tbody tr th {\n",
       "        vertical-align: top;\n",
       "    }\n",
       "\n",
       "    .dataframe thead th {\n",
       "        text-align: right;\n",
       "    }\n",
       "</style>\n",
       "<table border=\"1\" class=\"dataframe\">\n",
       "  <thead>\n",
       "    <tr style=\"text-align: right;\">\n",
       "      <th></th>\n",
       "      <th>State</th>\n",
       "      <th>Gender</th>\n",
       "      <th>Year</th>\n",
       "      <th>Total</th>\n",
       "      <th>Area</th>\n",
       "      <th>Suicides_per_squareKm</th>\n",
       "    </tr>\n",
       "  </thead>\n",
       "  <tbody>\n",
       "    <tr>\n",
       "      <td>53</td>\n",
       "      <td>Puducherry</td>\n",
       "      <td>Male</td>\n",
       "      <td>193200</td>\n",
       "      <td>4228</td>\n",
       "      <td>562.0</td>\n",
       "      <td>7.523132</td>\n",
       "    </tr>\n",
       "    <tr>\n",
       "      <td>19</td>\n",
       "      <td>Delhi (Ut)</td>\n",
       "      <td>Male</td>\n",
       "      <td>193200</td>\n",
       "      <td>10719</td>\n",
       "      <td>1484.0</td>\n",
       "      <td>7.223046</td>\n",
       "    </tr>\n",
       "    <tr>\n",
       "      <td>11</td>\n",
       "      <td>Chandigarh</td>\n",
       "      <td>Male</td>\n",
       "      <td>193200</td>\n",
       "      <td>656</td>\n",
       "      <td>114.0</td>\n",
       "      <td>5.754386</td>\n",
       "    </tr>\n",
       "    <tr>\n",
       "      <td>18</td>\n",
       "      <td>Delhi (Ut)</td>\n",
       "      <td>Female</td>\n",
       "      <td>193200</td>\n",
       "      <td>6138</td>\n",
       "      <td>1484.0</td>\n",
       "      <td>4.136119</td>\n",
       "    </tr>\n",
       "    <tr>\n",
       "      <td>52</td>\n",
       "      <td>Puducherry</td>\n",
       "      <td>Female</td>\n",
       "      <td>193200</td>\n",
       "      <td>2201</td>\n",
       "      <td>562.0</td>\n",
       "      <td>3.916370</td>\n",
       "    </tr>\n",
       "  </tbody>\n",
       "</table>\n",
       "</div>"
      ],
      "text/plain": [
       "         State  Gender    Year  Total    Area  Suicides_per_squareKm\n",
       "53  Puducherry    Male  193200   4228   562.0               7.523132\n",
       "19  Delhi (Ut)    Male  193200  10719  1484.0               7.223046\n",
       "11  Chandigarh    Male  193200    656   114.0               5.754386\n",
       "18  Delhi (Ut)  Female  193200   6138  1484.0               4.136119\n",
       "52  Puducherry  Female  193200   2201   562.0               3.916370"
      ]
     },
     "execution_count": 27,
     "metadata": {},
     "output_type": "execute_result"
    }
   ],
   "source": [
    "#Sorting values based of Suicides_per_squareKm in Descending order\n",
    "sortedStates = st.sort_values('Suicides_per_squareKm',ascending=False)\n",
    "sortedStates.head()"
   ]
  },
  {
   "cell_type": "code",
   "execution_count": 28,
   "metadata": {},
   "outputs": [
    {
     "data": {
      "image/png": "[encoded data removed]",
      "text/plain": [
       "<Figure size 864x432 with 1 Axes>"
      ]
     },
     "metadata": {
      "needs_background": "light"
     },
     "output_type": "display_data"
    }
   ],
   "source": [
    "plt.figure(figsize=(12,6))\n",
    "sns.barplot(x='State',y='Suicides_per_squareKm',data=sortedStates,hue='Gender',palette='Set1')\n",
    "plt.xticks(rotation=45,ha='right')\n",
    "plt.tight_layout()"
   ]
  },
  {
   "cell_type": "markdown",
   "metadata": {},
   "source": [
    "Union territories whose area is much smaller compared other states have higher number of suicides per square kilometre. Again, Kerala is an exception here as it larger compared all other union territories. Kerala is followed by West Bengal and Tamil Nadu among the Indian states to register higher number of suicides."
   ]
  },
  {
   "cell_type": "markdown",
   "metadata": {},
   "source": [
    "**7. Distribution of number of suicides in India overall**"
   ]
  },
  {
   "cell_type": "code",
   "execution_count": 29,
   "metadata": {},
   "outputs": [
    {
     "data": {
      "text/html": [
       "<div>\n",
       "<style scoped>\n",
       "    .dataframe tbody tr th:only-of-type {\n",
       "        vertical-align: middle;\n",
       "    }\n",
       "\n",
       "    .dataframe tbody tr th {\n",
       "        vertical-align: top;\n",
       "    }\n",
       "\n",
       "    .dataframe thead th {\n",
       "        text-align: right;\n",
       "    }\n",
       "</style>\n",
       "<table border=\"1\" class=\"dataframe\">\n",
       "  <thead>\n",
       "    <tr style=\"text-align: right;\">\n",
       "      <th></th>\n",
       "      <th>State</th>\n",
       "      <th>Year</th>\n",
       "      <th>Type_code</th>\n",
       "      <th>Type</th>\n",
       "      <th>Gender</th>\n",
       "      <th>Age_group</th>\n",
       "      <th>Total</th>\n",
       "    </tr>\n",
       "  </thead>\n",
       "  <tbody>\n",
       "    <tr>\n",
       "      <td>209476</td>\n",
       "      <td>Total (All India)</td>\n",
       "      <td>2007</td>\n",
       "      <td>Education_Status</td>\n",
       "      <td>Hr. Secondary/Intermediate/Pre-Universit</td>\n",
       "      <td>Female</td>\n",
       "      <td>0-100+</td>\n",
       "      <td>2391</td>\n",
       "    </tr>\n",
       "    <tr>\n",
       "      <td>209477</td>\n",
       "      <td>Total (All India)</td>\n",
       "      <td>2007</td>\n",
       "      <td>Education_Status</td>\n",
       "      <td>Diploma</td>\n",
       "      <td>Female</td>\n",
       "      <td>0-100+</td>\n",
       "      <td>294</td>\n",
       "    </tr>\n",
       "    <tr>\n",
       "      <td>209478</td>\n",
       "      <td>Total (All India)</td>\n",
       "      <td>2007</td>\n",
       "      <td>Education_Status</td>\n",
       "      <td>Matriculate/Secondary</td>\n",
       "      <td>Female</td>\n",
       "      <td>0-100+</td>\n",
       "      <td>5486</td>\n",
       "    </tr>\n",
       "    <tr>\n",
       "      <td>209479</td>\n",
       "      <td>Total (All India)</td>\n",
       "      <td>2007</td>\n",
       "      <td>Education_Status</td>\n",
       "      <td>No Education</td>\n",
       "      <td>Female</td>\n",
       "      <td>0-100+</td>\n",
       "      <td>12817</td>\n",
       "    </tr>\n",
       "    <tr>\n",
       "      <td>209480</td>\n",
       "      <td>Total (All India)</td>\n",
       "      <td>2007</td>\n",
       "      <td>Education_Status</td>\n",
       "      <td>Post Graduate and Above</td>\n",
       "      <td>Female</td>\n",
       "      <td>0-100+</td>\n",
       "      <td>192</td>\n",
       "    </tr>\n",
       "  </tbody>\n",
       "</table>\n",
       "</div>"
      ],
      "text/plain": [
       "                    State  Year         Type_code  \\\n",
       "209476  Total (All India)  2007  Education_Status   \n",
       "209477  Total (All India)  2007  Education_Status   \n",
       "209478  Total (All India)  2007  Education_Status   \n",
       "209479  Total (All India)  2007  Education_Status   \n",
       "209480  Total (All India)  2007  Education_Status   \n",
       "\n",
       "                                            Type  Gender Age_group  Total  \n",
       "209476  Hr. Secondary/Intermediate/Pre-Universit  Female    0-100+   2391  \n",
       "209477                                   Diploma  Female    0-100+    294  \n",
       "209478                     Matriculate/Secondary  Female    0-100+   5486  \n",
       "209479                              No Education  Female    0-100+  12817  \n",
       "209480                   Post Graduate and Above  Female    0-100+    192  "
      ]
     },
     "execution_count": 29,
     "metadata": {},
     "output_type": "execute_result"
    }
   ],
   "source": [
    "indiaOverall = df[(df['Type_code']=='Education_Status') & (df['State']=='Total (All India)')]\n",
    "indiaOverall.head()"
   ]
  },
  {
   "cell_type": "code",
   "execution_count": 30,
   "metadata": {},
   "outputs": [
    {
     "data": {
      "text/html": [
       "<div>\n",
       "<style scoped>\n",
       "    .dataframe tbody tr th:only-of-type {\n",
       "        vertical-align: middle;\n",
       "    }\n",
       "\n",
       "    .dataframe tbody tr th {\n",
       "        vertical-align: top;\n",
       "    }\n",
       "\n",
       "    .dataframe thead th {\n",
       "        text-align: right;\n",
       "    }\n",
       "</style>\n",
       "<table border=\"1\" class=\"dataframe\">\n",
       "  <thead>\n",
       "    <tr style=\"text-align: right;\">\n",
       "      <th></th>\n",
       "      <th>Year</th>\n",
       "      <th>Total</th>\n",
       "    </tr>\n",
       "  </thead>\n",
       "  <tbody>\n",
       "    <tr>\n",
       "      <td>0</td>\n",
       "      <td>2007</td>\n",
       "      <td>108506</td>\n",
       "    </tr>\n",
       "    <tr>\n",
       "      <td>1</td>\n",
       "      <td>2008</td>\n",
       "      <td>110417</td>\n",
       "    </tr>\n",
       "    <tr>\n",
       "      <td>2</td>\n",
       "      <td>2009</td>\n",
       "      <td>110851</td>\n",
       "    </tr>\n",
       "    <tr>\n",
       "      <td>3</td>\n",
       "      <td>2010</td>\n",
       "      <td>113697</td>\n",
       "    </tr>\n",
       "    <tr>\n",
       "      <td>4</td>\n",
       "      <td>2011</td>\n",
       "      <td>113914</td>\n",
       "    </tr>\n",
       "  </tbody>\n",
       "</table>\n",
       "</div>"
      ],
      "text/plain": [
       "   Year   Total\n",
       "0  2007  108506\n",
       "1  2008  110417\n",
       "2  2009  110851\n",
       "3  2010  113697\n",
       "4  2011  113914"
      ]
     },
     "execution_count": 30,
     "metadata": {},
     "output_type": "execute_result"
    }
   ],
   "source": [
    "overall = indiaOverall.groupby(['Year'],as_index=False).sum()\n",
    "overall.head()"
   ]
  },
  {
   "cell_type": "code",
   "execution_count": 31,
   "metadata": {},
   "outputs": [
    {
     "data": {
      "image/png": "[encoded data removed]",
      "text/plain": [
       "<Figure size 648x288 with 1 Axes>"
      ]
     },
     "metadata": {
      "needs_background": "light"
     },
     "output_type": "display_data"
    }
   ],
   "source": [
    "plt.figure(figsize=(9,4))\n",
    "plt.xticks(rotation=45,ha='right')\n",
    "sns.barplot(x='Year',y='Total',data=overall,palette='Set1').set_title('Suicides in India overall')\n",
    "plt.tight_layout()"
   ]
  },
  {
   "cell_type": "code",
   "execution_count": 32,
   "metadata": {},
   "outputs": [
    {
     "data": {
      "text/plain": [
       "19.889253940713942"
      ]
     },
     "execution_count": 32,
     "metadata": {},
     "output_type": "execute_result"
    }
   ],
   "source": [
    "#To calculate the percentage increase in suicides\n",
    "Suicides_in_2018 = int(overall[overall['Year']==2018]['Total'])\n",
    "Suicides_in_2007 = int(overall[overall['Year']==2007]['Total'])\n",
    "(Suicides_in_2018 - Suicides_in_2007)*100/Suicides_in_2018"
   ]
  },
  {
   "cell_type": "markdown",
   "metadata": {},
   "source": [
    "The total number of suicides in the conutry are increasing with time. \n",
    "From 2007 to 2018 the percentage increase in suicides is 20% which is very scary"
   ]
  }
 ],
 "metadata": {
  "kernelspec": {
   "display_name": "Python 3",
   "language": "python",
   "name": "python3"
  },
  "language_info": {
   "codemirror_mode": {
    "name": "ipython",
    "version": 3
   },
   "file_extension": ".py",
   "mimetype": "text/x-python",
   "name": "python",
   "nbconvert_exporter": "python",
   "pygments_lexer": "ipython3",
   "version": "3.6.6"
  }
 },
 "nbformat": 4,
 "nbformat_minor": 4
}
